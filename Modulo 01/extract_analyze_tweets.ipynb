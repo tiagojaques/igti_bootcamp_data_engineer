{
 "cells": [
  {
   "cell_type": "markdown",
   "metadata": {},
   "source": [
    "# Extrai Tweets"
   ]
  },
  {
   "cell_type": "code",
   "execution_count": 1,
   "metadata": {
    "scrolled": true
   },
   "outputs": [
    {
     "name": "stdout",
     "output_type": "stream",
     "text": [
      "Collecting tweepy\n",
      "  Using cached tweepy-3.9.0-py2.py3-none-any.whl (30 kB)\n",
      "Collecting datetime\n",
      "  Downloading DateTime-4.3-py2.py3-none-any.whl (60 kB)\n",
      "Requirement already satisfied: requests[socks]>=2.11.1 in c:\\users\\skabr\\anaconda3\\lib\\site-packages (from tweepy) (2.24.0)\n",
      "Collecting requests-oauthlib>=0.7.0\n",
      "  Using cached requests_oauthlib-1.3.0-py2.py3-none-any.whl (23 kB)\n",
      "Requirement already satisfied: six>=1.10.0 in c:\\users\\skabr\\anaconda3\\lib\\site-packages (from tweepy) (1.15.0)\n",
      "Requirement already satisfied: pytz in c:\\users\\skabr\\anaconda3\\lib\\site-packages (from datetime) (2020.1)\n",
      "Requirement already satisfied: zope.interface in c:\\users\\skabr\\anaconda3\\lib\\site-packages (from datetime) (4.7.1)\n",
      "Requirement already satisfied: idna<3,>=2.5 in c:\\users\\skabr\\anaconda3\\lib\\site-packages (from requests[socks]>=2.11.1->tweepy) (2.10)\n",
      "Requirement already satisfied: urllib3!=1.25.0,!=1.25.1,<1.26,>=1.21.1 in c:\\users\\skabr\\anaconda3\\lib\\site-packages (from requests[socks]>=2.11.1->tweepy) (1.25.9)\n",
      "Requirement already satisfied: certifi>=2017.4.17 in c:\\users\\skabr\\anaconda3\\lib\\site-packages (from requests[socks]>=2.11.1->tweepy) (2020.6.20)\n",
      "Requirement already satisfied: chardet<4,>=3.0.2 in c:\\users\\skabr\\anaconda3\\lib\\site-packages (from requests[socks]>=2.11.1->tweepy) (3.0.4)\n",
      "Requirement already satisfied: PySocks!=1.5.7,>=1.5.6; extra == \"socks\" in c:\\users\\skabr\\anaconda3\\lib\\site-packages (from requests[socks]>=2.11.1->tweepy) (1.7.1)\n",
      "Collecting oauthlib>=3.0.0\n",
      "  Using cached oauthlib-3.1.0-py2.py3-none-any.whl (147 kB)\n",
      "Requirement already satisfied: setuptools in c:\\users\\skabr\\anaconda3\\lib\\site-packages (from zope.interface->datetime) (49.2.0.post20200714)\n",
      "Installing collected packages: oauthlib, requests-oauthlib, tweepy, datetime\n",
      "Successfully installed datetime-4.3 oauthlib-3.1.0 requests-oauthlib-1.3.0 tweepy-3.9.0\n"
     ]
    }
   ],
   "source": [
    "!pip install tweepy datetime"
   ]
  },
  {
   "cell_type": "markdown",
   "metadata": {},
   "source": [
    "# PLAY!"
   ]
  },
  {
   "cell_type": "code",
   "execution_count": 4,
   "metadata": {},
   "outputs": [],
   "source": [
    "!python get_tweets.py"
   ]
  },
  {
   "cell_type": "markdown",
   "metadata": {},
   "source": [
    "# Entendendo o JSON do tweet"
   ]
  },
  {
   "cell_type": "code",
   "execution_count": 23,
   "metadata": {},
   "outputs": [],
   "source": [
    "import json"
   ]
  },
  {
   "cell_type": "code",
   "execution_count": 24,
   "metadata": {},
   "outputs": [],
   "source": [
    "with open('collected_tweets_2020-11-25-02-15-35.txt', 'r') as file:\n",
    "    tweets = file.readlines()\n",
    "    "
   ]
  },
  {
   "cell_type": "code",
   "execution_count": 7,
   "metadata": {
    "scrolled": true
   },
   "outputs": [],
   "source": [
    "# Carregando o JSON do Tweet utilizando o json.dump e json.load\n",
    "with open('tweet.json','w') as f:\n",
    "    json.dump(\n",
    "        json.loads(\n",
    "            json.loads(tweets[0])\n",
    "        ), f\n",
    "    )\n"
   ]
  },
  {
   "cell_type": "code",
   "execution_count": 8,
   "metadata": {
    "scrolled": true
   },
   "outputs": [
    {
     "data": {
      "text/plain": [
       "dict"
      ]
     },
     "execution_count": 8,
     "metadata": {},
     "output_type": "execute_result"
    }
   ],
   "source": [
    "# Verificando o tipo da variavel depois do json.loads\n",
    "type (\n",
    "    json.loads(\n",
    "        json.loads(tweets[0])\n",
    "    )\n",
    ")"
   ]
  },
  {
   "cell_type": "code",
   "execution_count": 25,
   "metadata": {},
   "outputs": [
    {
     "data": {
      "text/plain": [
       "4000"
      ]
     },
     "execution_count": 25,
     "metadata": {},
     "output_type": "execute_result"
    }
   ],
   "source": [
    "len(tweets)"
   ]
  },
  {
   "cell_type": "code",
   "execution_count": 10,
   "metadata": {
    "scrolled": true
   },
   "outputs": [
    {
     "data": {
      "text/plain": [
       "{'created_at': 'Wed Nov 25 05:15:30 +0000 2020',\n",
       " 'id': 1331466521596489729,\n",
       " 'id_str': '1331466521596489729',\n",
       " 'text': 'RT @realDonaldTrump: Poll: 79 Percent of Trump Voters Believe ‘Election Was Stolen‘ https://t.co/PmMBmt05AI via @BreitbartNews They are 100…',\n",
       " 'source': '<a href=\"https://mobile.twitter.com\" rel=\"nofollow\">Twitter Web App</a>',\n",
       " 'truncated': False,\n",
       " 'in_reply_to_status_id': None,\n",
       " 'in_reply_to_status_id_str': None,\n",
       " 'in_reply_to_user_id': None,\n",
       " 'in_reply_to_user_id_str': None,\n",
       " 'in_reply_to_screen_name': None,\n",
       " 'user': {'id': 1178365107576832000,\n",
       "  'id_str': '1178365107576832000',\n",
       "  'name': 'HTMaker',\n",
       "  'screen_name': 'HenryTheMaker',\n",
       "  'location': None,\n",
       "  'url': None,\n",
       "  'description': 'Created business strategy tools, learning from political & war strategies as well.',\n",
       "  'translator_type': 'none',\n",
       "  'protected': False,\n",
       "  'verified': False,\n",
       "  'followers_count': 175,\n",
       "  'friends_count': 370,\n",
       "  'listed_count': 1,\n",
       "  'favourites_count': 39035,\n",
       "  'statuses_count': 50663,\n",
       "  'created_at': 'Sun Sep 29 17:45:37 +0000 2019',\n",
       "  'utc_offset': None,\n",
       "  'time_zone': None,\n",
       "  'geo_enabled': False,\n",
       "  'lang': None,\n",
       "  'contributors_enabled': False,\n",
       "  'is_translator': False,\n",
       "  'profile_background_color': 'F5F8FA',\n",
       "  'profile_background_image_url': '',\n",
       "  'profile_background_image_url_https': '',\n",
       "  'profile_background_tile': False,\n",
       "  'profile_link_color': '1DA1F2',\n",
       "  'profile_sidebar_border_color': 'C0DEED',\n",
       "  'profile_sidebar_fill_color': 'DDEEF6',\n",
       "  'profile_text_color': '333333',\n",
       "  'profile_use_background_image': True,\n",
       "  'profile_image_url': 'http://pbs.twimg.com/profile_images/1223119411038408705/woSIkSQh_normal.jpg',\n",
       "  'profile_image_url_https': 'https://pbs.twimg.com/profile_images/1223119411038408705/woSIkSQh_normal.jpg',\n",
       "  'default_profile': True,\n",
       "  'default_profile_image': False,\n",
       "  'following': None,\n",
       "  'follow_request_sent': None,\n",
       "  'notifications': None},\n",
       " 'geo': None,\n",
       " 'coordinates': None,\n",
       " 'place': None,\n",
       " 'contributors': None,\n",
       " 'retweeted_status': {'created_at': 'Tue Nov 24 12:33:04 +0000 2020',\n",
       "  'id': 1331214247955738624,\n",
       "  'id_str': '1331214247955738624',\n",
       "  'text': 'Poll: 79 Percent of Trump Voters Believe ‘Election Was Stolen‘ https://t.co/PmMBmt05AI via @BreitbartNews They are… https://t.co/fsqAA7F6l3',\n",
       "  'source': '<a href=\"http://twitter.com/download/iphone\" rel=\"nofollow\">Twitter for iPhone</a>',\n",
       "  'truncated': True,\n",
       "  'in_reply_to_status_id': None,\n",
       "  'in_reply_to_status_id_str': None,\n",
       "  'in_reply_to_user_id': None,\n",
       "  'in_reply_to_user_id_str': None,\n",
       "  'in_reply_to_screen_name': None,\n",
       "  'user': {'id': 25073877,\n",
       "   'id_str': '25073877',\n",
       "   'name': 'Donald J. Trump',\n",
       "   'screen_name': 'realDonaldTrump',\n",
       "   'location': 'Washington, DC',\n",
       "   'url': 'http://Vote.DonaldJTrump.com',\n",
       "   'description': '45th President of the United States of America🇺🇸',\n",
       "   'translator_type': 'regular',\n",
       "   'protected': False,\n",
       "   'verified': True,\n",
       "   'followers_count': 88883161,\n",
       "   'friends_count': 51,\n",
       "   'listed_count': 125298,\n",
       "   'favourites_count': 6,\n",
       "   'statuses_count': 58667,\n",
       "   'created_at': 'Wed Mar 18 13:46:38 +0000 2009',\n",
       "   'utc_offset': None,\n",
       "   'time_zone': None,\n",
       "   'geo_enabled': True,\n",
       "   'lang': None,\n",
       "   'contributors_enabled': False,\n",
       "   'is_translator': False,\n",
       "   'profile_background_color': '6D5C18',\n",
       "   'profile_background_image_url': 'http://abs.twimg.com/images/themes/theme1/bg.png',\n",
       "   'profile_background_image_url_https': 'https://abs.twimg.com/images/themes/theme1/bg.png',\n",
       "   'profile_background_tile': True,\n",
       "   'profile_link_color': '1B95E0',\n",
       "   'profile_sidebar_border_color': 'BDDCAD',\n",
       "   'profile_sidebar_fill_color': 'C5CEC0',\n",
       "   'profile_text_color': '333333',\n",
       "   'profile_use_background_image': True,\n",
       "   'profile_image_url': 'http://pbs.twimg.com/profile_images/874276197357596672/kUuht00m_normal.jpg',\n",
       "   'profile_image_url_https': 'https://pbs.twimg.com/profile_images/874276197357596672/kUuht00m_normal.jpg',\n",
       "   'profile_banner_url': 'https://pbs.twimg.com/profile_banners/25073877/1604214583',\n",
       "   'default_profile': False,\n",
       "   'default_profile_image': False,\n",
       "   'following': None,\n",
       "   'follow_request_sent': None,\n",
       "   'notifications': None},\n",
       "  'geo': None,\n",
       "  'coordinates': None,\n",
       "  'place': None,\n",
       "  'contributors': None,\n",
       "  'is_quote_status': False,\n",
       "  'extended_tweet': {'full_text': 'Poll: 79 Percent of Trump Voters Believe ‘Election Was Stolen‘ https://t.co/PmMBmt05AI via @BreitbartNews They are 100% correct, but we are fighting hard. Our big lawsuit, which spells out in great detail all of the ballot fraud and more, will soon be filled. RIGGED ELECTION!',\n",
       "   'display_text_range': [0, 276],\n",
       "   'entities': {'hashtags': [],\n",
       "    'urls': [{'url': 'https://t.co/PmMBmt05AI',\n",
       "      'expanded_url': 'https://www.breitbart.com/2020-election/2020/11/23/poll-79-of-trump-voters-believe-election-was-stolen-through-illegal-voting-and-fraud/',\n",
       "      'display_url': 'breitbart.com/2020-election/…',\n",
       "      'indices': [63, 86]}],\n",
       "    'user_mentions': [{'screen_name': 'BreitbartNews',\n",
       "      'name': 'Breitbart News',\n",
       "      'id': 457984599,\n",
       "      'id_str': '457984599',\n",
       "      'indices': [91, 105]}],\n",
       "    'symbols': []}},\n",
       "  'quote_count': 5711,\n",
       "  'reply_count': 23305,\n",
       "  'retweet_count': 35641,\n",
       "  'favorite_count': 140943,\n",
       "  'entities': {'hashtags': [],\n",
       "   'urls': [{'url': 'https://t.co/PmMBmt05AI',\n",
       "     'expanded_url': 'https://www.breitbart.com/2020-election/2020/11/23/poll-79-of-trump-voters-believe-election-was-stolen-through-illegal-voting-and-fraud/',\n",
       "     'display_url': 'breitbart.com/2020-election/…',\n",
       "     'indices': [63, 86]},\n",
       "    {'url': 'https://t.co/fsqAA7F6l3',\n",
       "     'expanded_url': 'https://twitter.com/i/web/status/1331214247955738624',\n",
       "     'display_url': 'twitter.com/i/web/status/1…',\n",
       "     'indices': [116, 139]}],\n",
       "   'user_mentions': [{'screen_name': 'BreitbartNews',\n",
       "     'name': 'Breitbart News',\n",
       "     'id': 457984599,\n",
       "     'id_str': '457984599',\n",
       "     'indices': [91, 105]}],\n",
       "   'symbols': []},\n",
       "  'favorited': False,\n",
       "  'retweeted': False,\n",
       "  'possibly_sensitive': False,\n",
       "  'filter_level': 'low',\n",
       "  'lang': 'en'},\n",
       " 'is_quote_status': False,\n",
       " 'quote_count': 0,\n",
       " 'reply_count': 0,\n",
       " 'retweet_count': 0,\n",
       " 'favorite_count': 0,\n",
       " 'entities': {'hashtags': [],\n",
       "  'urls': [{'url': 'https://t.co/PmMBmt05AI',\n",
       "    'expanded_url': 'https://www.breitbart.com/2020-election/2020/11/23/poll-79-of-trump-voters-believe-election-was-stolen-through-illegal-voting-and-fraud/',\n",
       "    'display_url': 'breitbart.com/2020-election/…',\n",
       "    'indices': [84, 107]}],\n",
       "  'user_mentions': [{'screen_name': 'realDonaldTrump',\n",
       "    'name': 'Donald J. Trump',\n",
       "    'id': 25073877,\n",
       "    'id_str': '25073877',\n",
       "    'indices': [3, 19]},\n",
       "   {'screen_name': 'BreitbartNews',\n",
       "    'name': 'Breitbart News',\n",
       "    'id': 457984599,\n",
       "    'id_str': '457984599',\n",
       "    'indices': [112, 126]}],\n",
       "  'symbols': []},\n",
       " 'favorited': False,\n",
       " 'retweeted': False,\n",
       " 'possibly_sensitive': False,\n",
       " 'filter_level': 'low',\n",
       " 'lang': 'en',\n",
       " 'timestamp_ms': '1606281330857'}"
      ]
     },
     "execution_count": 10,
     "metadata": {},
     "output_type": "execute_result"
    }
   ],
   "source": [
    "json.loads(\n",
    "    json.loads(tweets[0])\n",
    ")"
   ]
  },
  {
   "cell_type": "code",
   "execution_count": 11,
   "metadata": {},
   "outputs": [],
   "source": [
    "parsed_tweets = [json.loads(json.loads(i)) for i in tweets]"
   ]
  },
  {
   "cell_type": "code",
   "execution_count": 12,
   "metadata": {},
   "outputs": [
    {
     "data": {
      "text/plain": [
       "4000"
      ]
     },
     "execution_count": 12,
     "metadata": {},
     "output_type": "execute_result"
    }
   ],
   "source": [
    "len(parsed_tweets)"
   ]
  },
  {
   "cell_type": "markdown",
   "metadata": {},
   "source": [
    "# Acessando as chaves do JSON (Dict)"
   ]
  },
  {
   "cell_type": "code",
   "execution_count": 29,
   "metadata": {},
   "outputs": [
    {
     "data": {
      "text/plain": [
       "dict_keys(['created_at', 'id', 'id_str', 'text', 'source', 'truncated', 'in_reply_to_status_id', 'in_reply_to_status_id_str', 'in_reply_to_user_id', 'in_reply_to_user_id_str', 'in_reply_to_screen_name', 'user', 'geo', 'coordinates', 'place', 'contributors', 'retweeted_status', 'is_quote_status', 'quote_count', 'reply_count', 'retweet_count', 'favorite_count', 'entities', 'favorited', 'retweeted', 'possibly_sensitive', 'filter_level', 'lang', 'timestamp_ms'])"
      ]
     },
     "execution_count": 29,
     "metadata": {},
     "output_type": "execute_result"
    }
   ],
   "source": [
    "parsed_tweets[0].keys()"
   ]
  },
  {
   "cell_type": "markdown",
   "metadata": {},
   "source": [
    "### Explorando dados do json"
   ]
  },
  {
   "cell_type": "code",
   "execution_count": 28,
   "metadata": {},
   "outputs": [],
   "source": [
    "primeirotweet = parsed_tweets[0]"
   ]
  },
  {
   "cell_type": "code",
   "execution_count": 30,
   "metadata": {},
   "outputs": [
    {
     "data": {
      "text/plain": [
       "dict_keys(['created_at', 'id', 'id_str', 'text', 'source', 'truncated', 'in_reply_to_status_id', 'in_reply_to_status_id_str', 'in_reply_to_user_id', 'in_reply_to_user_id_str', 'in_reply_to_screen_name', 'user', 'geo', 'coordinates', 'place', 'contributors', 'retweeted_status', 'is_quote_status', 'quote_count', 'reply_count', 'retweet_count', 'favorite_count', 'entities', 'favorited', 'retweeted', 'possibly_sensitive', 'filter_level', 'lang', 'timestamp_ms'])"
      ]
     },
     "execution_count": 30,
     "metadata": {},
     "output_type": "execute_result"
    }
   ],
   "source": [
    "primeirotweet.keys()"
   ]
  },
  {
   "cell_type": "code",
   "execution_count": 16,
   "metadata": {
    "scrolled": true
   },
   "outputs": [
    {
     "data": {
      "text/plain": [
       "dict_items([('created_at', 'Wed Nov 25 05:15:30 +0000 2020'), ('id', 1331466521596489729), ('id_str', '1331466521596489729'), ('text', 'RT @realDonaldTrump: Poll: 79 Percent of Trump Voters Believe ‘Election Was Stolen‘ https://t.co/PmMBmt05AI via @BreitbartNews They are 100…'), ('source', '<a href=\"https://mobile.twitter.com\" rel=\"nofollow\">Twitter Web App</a>'), ('truncated', False), ('in_reply_to_status_id', None), ('in_reply_to_status_id_str', None), ('in_reply_to_user_id', None), ('in_reply_to_user_id_str', None), ('in_reply_to_screen_name', None), ('user', {'id': 1178365107576832000, 'id_str': '1178365107576832000', 'name': 'HTMaker', 'screen_name': 'HenryTheMaker', 'location': None, 'url': None, 'description': 'Created business strategy tools, learning from political & war strategies as well.', 'translator_type': 'none', 'protected': False, 'verified': False, 'followers_count': 175, 'friends_count': 370, 'listed_count': 1, 'favourites_count': 39035, 'statuses_count': 50663, 'created_at': 'Sun Sep 29 17:45:37 +0000 2019', 'utc_offset': None, 'time_zone': None, 'geo_enabled': False, 'lang': None, 'contributors_enabled': False, 'is_translator': False, 'profile_background_color': 'F5F8FA', 'profile_background_image_url': '', 'profile_background_image_url_https': '', 'profile_background_tile': False, 'profile_link_color': '1DA1F2', 'profile_sidebar_border_color': 'C0DEED', 'profile_sidebar_fill_color': 'DDEEF6', 'profile_text_color': '333333', 'profile_use_background_image': True, 'profile_image_url': 'http://pbs.twimg.com/profile_images/1223119411038408705/woSIkSQh_normal.jpg', 'profile_image_url_https': 'https://pbs.twimg.com/profile_images/1223119411038408705/woSIkSQh_normal.jpg', 'default_profile': True, 'default_profile_image': False, 'following': None, 'follow_request_sent': None, 'notifications': None}), ('geo', None), ('coordinates', None), ('place', None), ('contributors', None), ('retweeted_status', {'created_at': 'Tue Nov 24 12:33:04 +0000 2020', 'id': 1331214247955738624, 'id_str': '1331214247955738624', 'text': 'Poll: 79 Percent of Trump Voters Believe ‘Election Was Stolen‘ https://t.co/PmMBmt05AI via @BreitbartNews They are… https://t.co/fsqAA7F6l3', 'source': '<a href=\"http://twitter.com/download/iphone\" rel=\"nofollow\">Twitter for iPhone</a>', 'truncated': True, 'in_reply_to_status_id': None, 'in_reply_to_status_id_str': None, 'in_reply_to_user_id': None, 'in_reply_to_user_id_str': None, 'in_reply_to_screen_name': None, 'user': {'id': 25073877, 'id_str': '25073877', 'name': 'Donald J. Trump', 'screen_name': 'realDonaldTrump', 'location': 'Washington, DC', 'url': 'http://Vote.DonaldJTrump.com', 'description': '45th President of the United States of America🇺🇸', 'translator_type': 'regular', 'protected': False, 'verified': True, 'followers_count': 88883161, 'friends_count': 51, 'listed_count': 125298, 'favourites_count': 6, 'statuses_count': 58667, 'created_at': 'Wed Mar 18 13:46:38 +0000 2009', 'utc_offset': None, 'time_zone': None, 'geo_enabled': True, 'lang': None, 'contributors_enabled': False, 'is_translator': False, 'profile_background_color': '6D5C18', 'profile_background_image_url': 'http://abs.twimg.com/images/themes/theme1/bg.png', 'profile_background_image_url_https': 'https://abs.twimg.com/images/themes/theme1/bg.png', 'profile_background_tile': True, 'profile_link_color': '1B95E0', 'profile_sidebar_border_color': 'BDDCAD', 'profile_sidebar_fill_color': 'C5CEC0', 'profile_text_color': '333333', 'profile_use_background_image': True, 'profile_image_url': 'http://pbs.twimg.com/profile_images/874276197357596672/kUuht00m_normal.jpg', 'profile_image_url_https': 'https://pbs.twimg.com/profile_images/874276197357596672/kUuht00m_normal.jpg', 'profile_banner_url': 'https://pbs.twimg.com/profile_banners/25073877/1604214583', 'default_profile': False, 'default_profile_image': False, 'following': None, 'follow_request_sent': None, 'notifications': None}, 'geo': None, 'coordinates': None, 'place': None, 'contributors': None, 'is_quote_status': False, 'extended_tweet': {'full_text': 'Poll: 79 Percent of Trump Voters Believe ‘Election Was Stolen‘ https://t.co/PmMBmt05AI via @BreitbartNews They are 100% correct, but we are fighting hard. Our big lawsuit, which spells out in great detail all of the ballot fraud and more, will soon be filled. RIGGED ELECTION!', 'display_text_range': [0, 276], 'entities': {'hashtags': [], 'urls': [{'url': 'https://t.co/PmMBmt05AI', 'expanded_url': 'https://www.breitbart.com/2020-election/2020/11/23/poll-79-of-trump-voters-believe-election-was-stolen-through-illegal-voting-and-fraud/', 'display_url': 'breitbart.com/2020-election/…', 'indices': [63, 86]}], 'user_mentions': [{'screen_name': 'BreitbartNews', 'name': 'Breitbart News', 'id': 457984599, 'id_str': '457984599', 'indices': [91, 105]}], 'symbols': []}}, 'quote_count': 5711, 'reply_count': 23305, 'retweet_count': 35641, 'favorite_count': 140943, 'entities': {'hashtags': [], 'urls': [{'url': 'https://t.co/PmMBmt05AI', 'expanded_url': 'https://www.breitbart.com/2020-election/2020/11/23/poll-79-of-trump-voters-believe-election-was-stolen-through-illegal-voting-and-fraud/', 'display_url': 'breitbart.com/2020-election/…', 'indices': [63, 86]}, {'url': 'https://t.co/fsqAA7F6l3', 'expanded_url': 'https://twitter.com/i/web/status/1331214247955738624', 'display_url': 'twitter.com/i/web/status/1…', 'indices': [116, 139]}], 'user_mentions': [{'screen_name': 'BreitbartNews', 'name': 'Breitbart News', 'id': 457984599, 'id_str': '457984599', 'indices': [91, 105]}], 'symbols': []}, 'favorited': False, 'retweeted': False, 'possibly_sensitive': False, 'filter_level': 'low', 'lang': 'en'}), ('is_quote_status', False), ('quote_count', 0), ('reply_count', 0), ('retweet_count', 0), ('favorite_count', 0), ('entities', {'hashtags': [], 'urls': [{'url': 'https://t.co/PmMBmt05AI', 'expanded_url': 'https://www.breitbart.com/2020-election/2020/11/23/poll-79-of-trump-voters-believe-election-was-stolen-through-illegal-voting-and-fraud/', 'display_url': 'breitbart.com/2020-election/…', 'indices': [84, 107]}], 'user_mentions': [{'screen_name': 'realDonaldTrump', 'name': 'Donald J. Trump', 'id': 25073877, 'id_str': '25073877', 'indices': [3, 19]}, {'screen_name': 'BreitbartNews', 'name': 'Breitbart News', 'id': 457984599, 'id_str': '457984599', 'indices': [112, 126]}], 'symbols': []}), ('favorited', False), ('retweeted', False), ('possibly_sensitive', False), ('filter_level', 'low'), ('lang', 'en'), ('timestamp_ms', '1606281330857')])"
      ]
     },
     "execution_count": 16,
     "metadata": {},
     "output_type": "execute_result"
    }
   ],
   "source": [
    "primeirotweet.items()"
   ]
  },
  {
   "cell_type": "code",
   "execution_count": 17,
   "metadata": {},
   "outputs": [
    {
     "data": {
      "text/plain": [
       "('id', 1331466521596489729)"
      ]
     },
     "execution_count": 17,
     "metadata": {},
     "output_type": "execute_result"
    }
   ],
   "source": [
    "list(primeirotweet.items())[1]"
   ]
  },
  {
   "cell_type": "code",
   "execution_count": 20,
   "metadata": {},
   "outputs": [
    {
     "data": {
      "text/plain": [
       "'RT @realDonaldTrump: Poll: 79 Percent of Trump Voters Believe ‘Election Was Stolen‘ https://t.co/PmMBmt05AI via @BreitbartNews They are 100…'"
      ]
     },
     "execution_count": 20,
     "metadata": {},
     "output_type": "execute_result"
    }
   ],
   "source": [
    "#Acessando o primeiro nivel das chaves\n",
    "primeirotweet[\"text\"]"
   ]
  },
  {
   "cell_type": "code",
   "execution_count": 21,
   "metadata": {},
   "outputs": [
    {
     "data": {
      "text/plain": [
       "1178365107576832000"
      ]
     },
     "execution_count": 21,
     "metadata": {},
     "output_type": "execute_result"
    }
   ],
   "source": [
    "primeirotweet[\"user\"][\"id\"]"
   ]
  },
  {
   "cell_type": "markdown",
   "metadata": {},
   "source": [
    "# Transformar os tweets em uma estrutura relacional analisável"
   ]
  },
  {
   "cell_type": "code",
   "execution_count": 26,
   "metadata": {},
   "outputs": [],
   "source": [
    "import pandas as pd"
   ]
  },
  {
   "cell_type": "code",
   "execution_count": 31,
   "metadata": {},
   "outputs": [],
   "source": [
    "teste = pd.DataFrame(primeirotweet)\n",
    "teste\n",
    "\n",
    "# Não funciona"
   ]
  },
  {
   "cell_type": "code",
   "execution_count": 34,
   "metadata": {},
   "outputs": [
    {
     "data": {
      "text/html": [
       "<div>\n",
       "<style scoped>\n",
       "    .dataframe tbody tr th:only-of-type {\n",
       "        vertical-align: middle;\n",
       "    }\n",
       "\n",
       "    .dataframe tbody tr th {\n",
       "        vertical-align: top;\n",
       "    }\n",
       "\n",
       "    .dataframe thead th {\n",
       "        text-align: right;\n",
       "    }\n",
       "</style>\n",
       "<table border=\"1\" class=\"dataframe\">\n",
       "  <thead>\n",
       "    <tr style=\"text-align: right;\">\n",
       "      <th></th>\n",
       "      <th>created_at</th>\n",
       "      <th>id</th>\n",
       "      <th>id_str</th>\n",
       "      <th>text</th>\n",
       "      <th>source</th>\n",
       "      <th>truncated</th>\n",
       "      <th>in_reply_to_status_id</th>\n",
       "      <th>in_reply_to_status_id_str</th>\n",
       "      <th>in_reply_to_user_id</th>\n",
       "      <th>in_reply_to_user_id_str</th>\n",
       "      <th>...</th>\n",
       "      <th>reply_count</th>\n",
       "      <th>retweet_count</th>\n",
       "      <th>favorite_count</th>\n",
       "      <th>entities</th>\n",
       "      <th>favorited</th>\n",
       "      <th>retweeted</th>\n",
       "      <th>possibly_sensitive</th>\n",
       "      <th>filter_level</th>\n",
       "      <th>lang</th>\n",
       "      <th>timestamp_ms</th>\n",
       "    </tr>\n",
       "  </thead>\n",
       "  <tbody>\n",
       "    <tr>\n",
       "      <th>0</th>\n",
       "      <td>Wed Nov 25 05:15:30 +0000 2020</td>\n",
       "      <td>1331466521596489729</td>\n",
       "      <td>1331466521596489729</td>\n",
       "      <td>RT @realDonaldTrump: Poll: 79 Percent of Trump...</td>\n",
       "      <td>&lt;a href=\"https://mobile.twitter.com\" rel=\"nofo...</td>\n",
       "      <td>False</td>\n",
       "      <td>None</td>\n",
       "      <td>None</td>\n",
       "      <td>None</td>\n",
       "      <td>None</td>\n",
       "      <td>...</td>\n",
       "      <td>0</td>\n",
       "      <td>0</td>\n",
       "      <td>0</td>\n",
       "      <td>NaN</td>\n",
       "      <td>False</td>\n",
       "      <td>False</td>\n",
       "      <td>False</td>\n",
       "      <td>low</td>\n",
       "      <td>en</td>\n",
       "      <td>1606281330857</td>\n",
       "    </tr>\n",
       "  </tbody>\n",
       "</table>\n",
       "<p>1 rows × 29 columns</p>\n",
       "</div>"
      ],
      "text/plain": [
       "                       created_at                   id               id_str  \\\n",
       "0  Wed Nov 25 05:15:30 +0000 2020  1331466521596489729  1331466521596489729   \n",
       "\n",
       "                                                text  \\\n",
       "0  RT @realDonaldTrump: Poll: 79 Percent of Trump...   \n",
       "\n",
       "                                              source  truncated  \\\n",
       "0  <a href=\"https://mobile.twitter.com\" rel=\"nofo...      False   \n",
       "\n",
       "  in_reply_to_status_id in_reply_to_status_id_str in_reply_to_user_id  \\\n",
       "0                  None                      None                None   \n",
       "\n",
       "  in_reply_to_user_id_str  ... reply_count retweet_count favorite_count  \\\n",
       "0                    None  ...           0             0              0   \n",
       "\n",
       "  entities favorited retweeted possibly_sensitive  filter_level  lang  \\\n",
       "0      NaN     False     False              False           low    en   \n",
       "\n",
       "    timestamp_ms  \n",
       "0  1606281330857  \n",
       "\n",
       "[1 rows x 29 columns]"
      ]
     },
     "execution_count": 34,
     "metadata": {},
     "output_type": "execute_result"
    }
   ],
   "source": [
    "df_tratado = pd.DataFrame(primeirotweet).reset_index(drop=True).iloc[:1]\n",
    "df_tratado"
   ]
  },
  {
   "cell_type": "code",
   "execution_count": 35,
   "metadata": {},
   "outputs": [
    {
     "data": {
      "text/plain": [
       "Index(['created_at', 'id', 'id_str', 'text', 'source', 'truncated',\n",
       "       'in_reply_to_status_id', 'in_reply_to_status_id_str',\n",
       "       'in_reply_to_user_id', 'in_reply_to_user_id_str',\n",
       "       'in_reply_to_screen_name', 'user', 'geo', 'coordinates', 'place',\n",
       "       'contributors', 'retweeted_status', 'is_quote_status', 'quote_count',\n",
       "       'reply_count', 'retweet_count', 'favorite_count', 'entities',\n",
       "       'favorited', 'retweeted', 'possibly_sensitive', 'filter_level', 'lang',\n",
       "       'timestamp_ms'],\n",
       "      dtype='object')"
      ]
     },
     "execution_count": 35,
     "metadata": {},
     "output_type": "execute_result"
    }
   ],
   "source": [
    "df_tratado.columns"
   ]
  },
  {
   "cell_type": "code",
   "execution_count": 38,
   "metadata": {},
   "outputs": [],
   "source": [
    "# Drop de colunas desnecessárias\n",
    "df_tratado = pd.DataFrame(primeirotweet).reset_index(drop=True).iloc[:1]\n",
    "df_tratado.drop(columns=['quote_count','reply_count', 'retweet_count', 'favorite_count','favorited', 'retweeted', 'user', 'entities', 'retweeted_status'], inplace=True)"
   ]
  },
  {
   "cell_type": "code",
   "execution_count": 40,
   "metadata": {},
   "outputs": [
    {
     "data": {
      "text/plain": [
       "{'id': 1178365107576832000,\n",
       " 'id_str': '1178365107576832000',\n",
       " 'name': 'HTMaker',\n",
       " 'screen_name': 'HenryTheMaker',\n",
       " 'location': None,\n",
       " 'url': None,\n",
       " 'description': 'Created business strategy tools, learning from political & war strategies as well.',\n",
       " 'translator_type': 'none',\n",
       " 'protected': False,\n",
       " 'verified': False,\n",
       " 'followers_count': 175,\n",
       " 'friends_count': 370,\n",
       " 'listed_count': 1,\n",
       " 'favourites_count': 39035,\n",
       " 'statuses_count': 50663,\n",
       " 'created_at': 'Sun Sep 29 17:45:37 +0000 2019',\n",
       " 'utc_offset': None,\n",
       " 'time_zone': None,\n",
       " 'geo_enabled': False,\n",
       " 'lang': None,\n",
       " 'contributors_enabled': False,\n",
       " 'is_translator': False,\n",
       " 'profile_background_color': 'F5F8FA',\n",
       " 'profile_background_image_url': '',\n",
       " 'profile_background_image_url_https': '',\n",
       " 'profile_background_tile': False,\n",
       " 'profile_link_color': '1DA1F2',\n",
       " 'profile_sidebar_border_color': 'C0DEED',\n",
       " 'profile_sidebar_fill_color': 'DDEEF6',\n",
       " 'profile_text_color': '333333',\n",
       " 'profile_use_background_image': True,\n",
       " 'profile_image_url': 'http://pbs.twimg.com/profile_images/1223119411038408705/woSIkSQh_normal.jpg',\n",
       " 'profile_image_url_https': 'https://pbs.twimg.com/profile_images/1223119411038408705/woSIkSQh_normal.jpg',\n",
       " 'default_profile': True,\n",
       " 'default_profile_image': False,\n",
       " 'following': None,\n",
       " 'follow_request_sent': None,\n",
       " 'notifications': None}"
      ]
     },
     "execution_count": 40,
     "metadata": {},
     "output_type": "execute_result"
    }
   ],
   "source": [
    "df_tratado.columns\n",
    "primeirotweet['user']"
   ]
  },
  {
   "cell_type": "code",
   "execution_count": 42,
   "metadata": {},
   "outputs": [
    {
     "data": {
      "text/html": [
       "<div>\n",
       "<style scoped>\n",
       "    .dataframe tbody tr th:only-of-type {\n",
       "        vertical-align: middle;\n",
       "    }\n",
       "\n",
       "    .dataframe tbody tr th {\n",
       "        vertical-align: top;\n",
       "    }\n",
       "\n",
       "    .dataframe thead th {\n",
       "        text-align: right;\n",
       "    }\n",
       "</style>\n",
       "<table border=\"1\" class=\"dataframe\">\n",
       "  <thead>\n",
       "    <tr style=\"text-align: right;\">\n",
       "      <th></th>\n",
       "      <th>created_at</th>\n",
       "      <th>id</th>\n",
       "      <th>id_str</th>\n",
       "      <th>text</th>\n",
       "      <th>source</th>\n",
       "      <th>truncated</th>\n",
       "      <th>in_reply_to_status_id</th>\n",
       "      <th>in_reply_to_status_id_str</th>\n",
       "      <th>in_reply_to_user_id</th>\n",
       "      <th>in_reply_to_user_id_str</th>\n",
       "      <th>...</th>\n",
       "      <th>timestamp_ms</th>\n",
       "      <th>user_id</th>\n",
       "      <th>user_id_str</th>\n",
       "      <th>user_screen_name</th>\n",
       "      <th>user_location</th>\n",
       "      <th>user_description</th>\n",
       "      <th>user_vierified</th>\n",
       "      <th>user_followers_count</th>\n",
       "      <th>user_friends_count</th>\n",
       "      <th>user_created_at</th>\n",
       "    </tr>\n",
       "  </thead>\n",
       "  <tbody>\n",
       "    <tr>\n",
       "      <th>0</th>\n",
       "      <td>Wed Nov 25 05:15:30 +0000 2020</td>\n",
       "      <td>1331466521596489729</td>\n",
       "      <td>1331466521596489729</td>\n",
       "      <td>RT @realDonaldTrump: Poll: 79 Percent of Trump...</td>\n",
       "      <td>&lt;a href=\"https://mobile.twitter.com\" rel=\"nofo...</td>\n",
       "      <td>False</td>\n",
       "      <td>None</td>\n",
       "      <td>None</td>\n",
       "      <td>None</td>\n",
       "      <td>None</td>\n",
       "      <td>...</td>\n",
       "      <td>1606281330857</td>\n",
       "      <td>1178365107576832000</td>\n",
       "      <td>1178365107576832000</td>\n",
       "      <td>HenryTheMaker</td>\n",
       "      <td>None</td>\n",
       "      <td>Created business strategy tools, learning from...</td>\n",
       "      <td>False</td>\n",
       "      <td>175</td>\n",
       "      <td>370</td>\n",
       "      <td>Sun Sep 29 17:45:37 +0000 2019</td>\n",
       "    </tr>\n",
       "  </tbody>\n",
       "</table>\n",
       "<p>1 rows × 29 columns</p>\n",
       "</div>"
      ],
      "text/plain": [
       "                       created_at                   id               id_str  \\\n",
       "0  Wed Nov 25 05:15:30 +0000 2020  1331466521596489729  1331466521596489729   \n",
       "\n",
       "                                                text  \\\n",
       "0  RT @realDonaldTrump: Poll: 79 Percent of Trump...   \n",
       "\n",
       "                                              source  truncated  \\\n",
       "0  <a href=\"https://mobile.twitter.com\" rel=\"nofo...      False   \n",
       "\n",
       "  in_reply_to_status_id in_reply_to_status_id_str in_reply_to_user_id  \\\n",
       "0                  None                      None                None   \n",
       "\n",
       "  in_reply_to_user_id_str  ...   timestamp_ms              user_id  \\\n",
       "0                    None  ...  1606281330857  1178365107576832000   \n",
       "\n",
       "           user_id_str user_screen_name user_location  \\\n",
       "0  1178365107576832000    HenryTheMaker          None   \n",
       "\n",
       "                                    user_description  user_vierified  \\\n",
       "0  Created business strategy tools, learning from...           False   \n",
       "\n",
       "  user_followers_count user_friends_count                 user_created_at  \n",
       "0                  175                370  Sun Sep 29 17:45:37 +0000 2019  \n",
       "\n",
       "[1 rows x 29 columns]"
      ]
     },
     "execution_count": 42,
     "metadata": {},
     "output_type": "execute_result"
    }
   ],
   "source": [
    "df_tratado['user_id'] = primeirotweet['user']['id']\n",
    "df_tratado['user_id_str'] = primeirotweet['user']['id_str']\n",
    "df_tratado['user_screen_name'] = primeirotweet['user']['screen_name']\n",
    "df_tratado['user_location'] = primeirotweet['user']['location']\n",
    "df_tratado['user_description'] = primeirotweet['user']['description']\n",
    "df_tratado['user_vierified'] = primeirotweet['user']['verified']\n",
    "df_tratado['user_followers_count'] = primeirotweet['user']['followers_count']\n",
    "df_tratado['user_friends_count'] = primeirotweet['user']['friends_count']\n",
    "df_tratado['user_created_at'] = primeirotweet['user']['created_at']\n",
    "df_tratado\n"
   ]
  },
  {
   "cell_type": "code",
   "execution_count": 43,
   "metadata": {},
   "outputs": [
    {
     "data": {
      "text/plain": [
       "{'hashtags': [],\n",
       " 'urls': [{'url': 'https://t.co/PmMBmt05AI',\n",
       "   'expanded_url': 'https://www.breitbart.com/2020-election/2020/11/23/poll-79-of-trump-voters-believe-election-was-stolen-through-illegal-voting-and-fraud/',\n",
       "   'display_url': 'breitbart.com/2020-election/…',\n",
       "   'indices': [84, 107]}],\n",
       " 'user_mentions': [{'screen_name': 'realDonaldTrump',\n",
       "   'name': 'Donald J. Trump',\n",
       "   'id': 25073877,\n",
       "   'id_str': '25073877',\n",
       "   'indices': [3, 19]},\n",
       "  {'screen_name': 'BreitbartNews',\n",
       "   'name': 'Breitbart News',\n",
       "   'id': 457984599,\n",
       "   'id_str': '457984599',\n",
       "   'indices': [112, 126]}],\n",
       " 'symbols': []}"
      ]
     },
     "execution_count": 43,
     "metadata": {},
     "output_type": "execute_result"
    }
   ],
   "source": [
    "primeirotweet['entities']"
   ]
  },
  {
   "cell_type": "code",
   "execution_count": 44,
   "metadata": {},
   "outputs": [],
   "source": [
    "user_mentions = []\n",
    "\n",
    "for i in range(len(primeirotweet['entities']['user_mentions'])):\n",
    "    dicionariobase = primeirotweet['entities']['user_mentions'][i].copy()\n",
    "    dicionariobase.pop('indices', None)\n",
    "    df = pd.DataFrame(dicionariobase, index=[0])\n",
    "    df = df.rename(columns={\n",
    "        'screen_name' : 'entities_screen_name',\n",
    "        'name' : 'entities_name',\n",
    "        'id' : 'entities_id',\n",
    "        'id_str' : 'entities_id_str'\n",
    "    })\n",
    "    \n",
    "user_mentions.append(df)"
   ]
  },
  {
   "cell_type": "code",
   "execution_count": 48,
   "metadata": {},
   "outputs": [
    {
     "data": {
      "text/html": [
       "<div>\n",
       "<style scoped>\n",
       "    .dataframe tbody tr th:only-of-type {\n",
       "        vertical-align: middle;\n",
       "    }\n",
       "\n",
       "    .dataframe tbody tr th {\n",
       "        vertical-align: top;\n",
       "    }\n",
       "\n",
       "    .dataframe thead th {\n",
       "        text-align: right;\n",
       "    }\n",
       "</style>\n",
       "<table border=\"1\" class=\"dataframe\">\n",
       "  <thead>\n",
       "    <tr style=\"text-align: right;\">\n",
       "      <th></th>\n",
       "      <th>entities_screen_name</th>\n",
       "      <th>entities_name</th>\n",
       "      <th>entities_id</th>\n",
       "      <th>entities_id_str</th>\n",
       "    </tr>\n",
       "  </thead>\n",
       "  <tbody>\n",
       "    <tr>\n",
       "      <th>0</th>\n",
       "      <td>BreitbartNews</td>\n",
       "      <td>Breitbart News</td>\n",
       "      <td>457984599</td>\n",
       "      <td>457984599</td>\n",
       "    </tr>\n",
       "  </tbody>\n",
       "</table>\n",
       "</div>"
      ],
      "text/plain": [
       "  entities_screen_name   entities_name  entities_id entities_id_str\n",
       "0        BreitbartNews  Breitbart News    457984599       457984599"
      ]
     },
     "execution_count": 48,
     "metadata": {},
     "output_type": "execute_result"
    }
   ],
   "source": [
    "user_mentions[0]"
   ]
  },
  {
   "cell_type": "code",
   "execution_count": 50,
   "metadata": {},
   "outputs": [],
   "source": [
    "dfs = []\n",
    "\n",
    "for i in user_mentions:\n",
    "    dfs.append(\n",
    "        pd.concat([df_tratado.copy(), i], axis=1)\n",
    "    )"
   ]
  },
  {
   "cell_type": "code",
   "execution_count": 54,
   "metadata": {},
   "outputs": [
    {
     "data": {
      "text/html": [
       "<div>\n",
       "<style scoped>\n",
       "    .dataframe tbody tr th:only-of-type {\n",
       "        vertical-align: middle;\n",
       "    }\n",
       "\n",
       "    .dataframe tbody tr th {\n",
       "        vertical-align: top;\n",
       "    }\n",
       "\n",
       "    .dataframe thead th {\n",
       "        text-align: right;\n",
       "    }\n",
       "</style>\n",
       "<table border=\"1\" class=\"dataframe\">\n",
       "  <thead>\n",
       "    <tr style=\"text-align: right;\">\n",
       "      <th></th>\n",
       "      <th>created_at</th>\n",
       "      <th>id</th>\n",
       "      <th>id_str</th>\n",
       "      <th>text</th>\n",
       "      <th>source</th>\n",
       "      <th>truncated</th>\n",
       "      <th>in_reply_to_status_id</th>\n",
       "      <th>in_reply_to_status_id_str</th>\n",
       "      <th>in_reply_to_user_id</th>\n",
       "      <th>in_reply_to_user_id_str</th>\n",
       "      <th>...</th>\n",
       "      <th>user_location</th>\n",
       "      <th>user_description</th>\n",
       "      <th>user_vierified</th>\n",
       "      <th>user_followers_count</th>\n",
       "      <th>user_friends_count</th>\n",
       "      <th>user_created_at</th>\n",
       "      <th>entities_screen_name</th>\n",
       "      <th>entities_name</th>\n",
       "      <th>entities_id</th>\n",
       "      <th>entities_id_str</th>\n",
       "    </tr>\n",
       "  </thead>\n",
       "  <tbody>\n",
       "    <tr>\n",
       "      <th>0</th>\n",
       "      <td>Wed Nov 25 05:15:30 +0000 2020</td>\n",
       "      <td>1331466521596489729</td>\n",
       "      <td>1331466521596489729</td>\n",
       "      <td>RT @realDonaldTrump: Poll: 79 Percent of Trump...</td>\n",
       "      <td>&lt;a href=\"https://mobile.twitter.com\" rel=\"nofo...</td>\n",
       "      <td>False</td>\n",
       "      <td>None</td>\n",
       "      <td>None</td>\n",
       "      <td>None</td>\n",
       "      <td>None</td>\n",
       "      <td>...</td>\n",
       "      <td>None</td>\n",
       "      <td>Created business strategy tools, learning from...</td>\n",
       "      <td>False</td>\n",
       "      <td>175</td>\n",
       "      <td>370</td>\n",
       "      <td>Sun Sep 29 17:45:37 +0000 2019</td>\n",
       "      <td>BreitbartNews</td>\n",
       "      <td>Breitbart News</td>\n",
       "      <td>457984599</td>\n",
       "      <td>457984599</td>\n",
       "    </tr>\n",
       "  </tbody>\n",
       "</table>\n",
       "<p>1 rows × 33 columns</p>\n",
       "</div>"
      ],
      "text/plain": [
       "                       created_at                   id               id_str  \\\n",
       "0  Wed Nov 25 05:15:30 +0000 2020  1331466521596489729  1331466521596489729   \n",
       "\n",
       "                                                text  \\\n",
       "0  RT @realDonaldTrump: Poll: 79 Percent of Trump...   \n",
       "\n",
       "                                              source  truncated  \\\n",
       "0  <a href=\"https://mobile.twitter.com\" rel=\"nofo...      False   \n",
       "\n",
       "  in_reply_to_status_id in_reply_to_status_id_str in_reply_to_user_id  \\\n",
       "0                  None                      None                None   \n",
       "\n",
       "  in_reply_to_user_id_str  ... user_location  \\\n",
       "0                    None  ...          None   \n",
       "\n",
       "                                    user_description user_vierified  \\\n",
       "0  Created business strategy tools, learning from...          False   \n",
       "\n",
       "  user_followers_count user_friends_count                 user_created_at  \\\n",
       "0                  175                370  Sun Sep 29 17:45:37 +0000 2019   \n",
       "\n",
       "   entities_screen_name   entities_name entities_id entities_id_str  \n",
       "0         BreitbartNews  Breitbart News   457984599       457984599  \n",
       "\n",
       "[1 rows x 33 columns]"
      ]
     },
     "execution_count": 54,
     "metadata": {},
     "output_type": "execute_result"
    }
   ],
   "source": [
    "dfs[0]"
   ]
  },
  {
   "cell_type": "markdown",
   "metadata": {},
   "source": [
    "# Vamos criar uma função que faz todo trabamento do tweet"
   ]
  },
  {
   "cell_type": "code",
   "execution_count": 61,
   "metadata": {},
   "outputs": [],
   "source": [
    "def tweet_para_df(tweet):\n",
    "    try:\n",
    "        df_tratado = pd.DataFrame(tweet).reset_index(drop=True).iloc[:1]\n",
    "        df_tratado.drop(columns=['quote_count','reply_count', 'retweet_count', 'favorite_count','favorited', 'retweeted', 'user', 'entities', 'retweeted_status'], inplace=True)\n",
    "\n",
    "        df_tratado['user_id'] = tweet['user']['id']\n",
    "        df_tratado['user_id_str'] = tweet['user']['id_str']\n",
    "        df_tratado['user_screen_name'] = tweet['user']['screen_name']\n",
    "        df_tratado['user_location'] = tweet['user']['location']\n",
    "        df_tratado['user_description'] = tweet['user']['description']\n",
    "        df_tratado['user_vierified'] = tweet['user']['verified']\n",
    "        df_tratado['user_followers_count'] = tweet['user']['followers_count']\n",
    "        df_tratado['user_friends_count'] = tweet['user']['friends_count']\n",
    "        df_tratado['user_created_at'] = tweet['user']['created_at']\n",
    "\n",
    "        user_mentions = []\n",
    "\n",
    "        for i in range(len(tweet['entities']['user_mentions'])):\n",
    "            dicionariobase = tweet['entities']['user_mentions'][i].copy()\n",
    "            dicionariobase.pop('indices', None)\n",
    "            df = pd.DataFrame(dicionariobase, index=[0])\n",
    "            df = df.rename(columns={\n",
    "                'screen_name' : 'entities_screen_name',\n",
    "                'name' : 'entities_name',\n",
    "                'id' : 'entities_id',\n",
    "                'id_str' : 'entities_id_str'\n",
    "            })\n",
    "\n",
    "        user_mentions.append(df)\n",
    "\n",
    "        dfs = []\n",
    "\n",
    "        for i in user_mentions:\n",
    "            dfs.append(\n",
    "                pd.concat([df_tratado.copy(), i], axis=1)\n",
    "            )\n",
    "\n",
    "        df_final = pd.concat(dfs, ignore_index=True)\n",
    "    except:\n",
    "        return None\n",
    "    \n",
    "    return df_final\n",
    "    "
   ]
  },
  {
   "cell_type": "code",
   "execution_count": 62,
   "metadata": {},
   "outputs": [],
   "source": [
    "tweet_para_df(parsed_tweets[4])"
   ]
  },
  {
   "cell_type": "code",
   "execution_count": 63,
   "metadata": {},
   "outputs": [
    {
     "name": "stdout",
     "output_type": "stream",
     "text": [
      "Wall time: 25.3 s\n"
     ]
    }
   ],
   "source": [
    "%%time\n",
    "# gerando lista completa dos tweets tratados\n",
    "parseados = [tweet_para_df(tweet) for tweet in parsed_tweets]"
   ]
  },
  {
   "cell_type": "code",
   "execution_count": 66,
   "metadata": {},
   "outputs": [],
   "source": [
    "# removendo as posições vazias\n",
    "parseados = [i for i in parseados if i is not None]"
   ]
  },
  {
   "cell_type": "code",
   "execution_count": 67,
   "metadata": {},
   "outputs": [
    {
     "data": {
      "text/plain": [
       "2809"
      ]
     },
     "execution_count": 67,
     "metadata": {},
     "output_type": "execute_result"
    }
   ],
   "source": [
    "len(parseados)"
   ]
  },
  {
   "cell_type": "code",
   "execution_count": 68,
   "metadata": {},
   "outputs": [],
   "source": [
    "tratado = pd.concat(parseados, ignore_index=True)"
   ]
  },
  {
   "cell_type": "code",
   "execution_count": 69,
   "metadata": {
    "scrolled": true
   },
   "outputs": [
    {
     "data": {
      "text/html": [
       "<div>\n",
       "<style scoped>\n",
       "    .dataframe tbody tr th:only-of-type {\n",
       "        vertical-align: middle;\n",
       "    }\n",
       "\n",
       "    .dataframe tbody tr th {\n",
       "        vertical-align: top;\n",
       "    }\n",
       "\n",
       "    .dataframe thead th {\n",
       "        text-align: right;\n",
       "    }\n",
       "</style>\n",
       "<table border=\"1\" class=\"dataframe\">\n",
       "  <thead>\n",
       "    <tr style=\"text-align: right;\">\n",
       "      <th></th>\n",
       "      <th>created_at</th>\n",
       "      <th>id</th>\n",
       "      <th>id_str</th>\n",
       "      <th>text</th>\n",
       "      <th>source</th>\n",
       "      <th>truncated</th>\n",
       "      <th>in_reply_to_status_id</th>\n",
       "      <th>in_reply_to_status_id_str</th>\n",
       "      <th>in_reply_to_user_id</th>\n",
       "      <th>in_reply_to_user_id_str</th>\n",
       "      <th>...</th>\n",
       "      <th>user_created_at</th>\n",
       "      <th>entities_screen_name</th>\n",
       "      <th>entities_name</th>\n",
       "      <th>entities_id</th>\n",
       "      <th>entities_id_str</th>\n",
       "      <th>quoted_status_id</th>\n",
       "      <th>quoted_status_id_str</th>\n",
       "      <th>quoted_status</th>\n",
       "      <th>quoted_status_permalink</th>\n",
       "      <th>extended_entities</th>\n",
       "    </tr>\n",
       "  </thead>\n",
       "  <tbody>\n",
       "    <tr>\n",
       "      <th>0</th>\n",
       "      <td>Wed Nov 25 05:15:30 +0000 2020</td>\n",
       "      <td>1331466521596489729</td>\n",
       "      <td>1331466521596489729</td>\n",
       "      <td>RT @realDonaldTrump: Poll: 79 Percent of Trump...</td>\n",
       "      <td>&lt;a href=\"https://mobile.twitter.com\" rel=\"nofo...</td>\n",
       "      <td>False</td>\n",
       "      <td>None</td>\n",
       "      <td>None</td>\n",
       "      <td>None</td>\n",
       "      <td>None</td>\n",
       "      <td>...</td>\n",
       "      <td>Sun Sep 29 17:45:37 +0000 2019</td>\n",
       "      <td>BreitbartNews</td>\n",
       "      <td>Breitbart News</td>\n",
       "      <td>457984599</td>\n",
       "      <td>457984599</td>\n",
       "      <td>NaN</td>\n",
       "      <td>NaN</td>\n",
       "      <td>NaN</td>\n",
       "      <td>NaN</td>\n",
       "      <td>NaN</td>\n",
       "    </tr>\n",
       "    <tr>\n",
       "      <th>1</th>\n",
       "      <td>Wed Nov 25 05:15:30 +0000 2020</td>\n",
       "      <td>1331466521583906818</td>\n",
       "      <td>1331466521583906818</td>\n",
       "      <td>RT @mmpadellan: Joe Biden is hard at work tryi...</td>\n",
       "      <td>&lt;a href=\"http://twitter.com/download/android\" ...</td>\n",
       "      <td>False</td>\n",
       "      <td>None</td>\n",
       "      <td>None</td>\n",
       "      <td>None</td>\n",
       "      <td>None</td>\n",
       "      <td>...</td>\n",
       "      <td>Tue Sep 01 01:03:01 +0000 2009</td>\n",
       "      <td>mmpadellan</td>\n",
       "      <td>BrooklynDad_Defiant!</td>\n",
       "      <td>1640929196</td>\n",
       "      <td>1640929196</td>\n",
       "      <td>NaN</td>\n",
       "      <td>NaN</td>\n",
       "      <td>NaN</td>\n",
       "      <td>NaN</td>\n",
       "      <td>NaN</td>\n",
       "    </tr>\n",
       "    <tr>\n",
       "      <th>2</th>\n",
       "      <td>Wed Nov 25 05:15:30 +0000 2020</td>\n",
       "      <td>1331466521600815105</td>\n",
       "      <td>1331466521600815105</td>\n",
       "      <td>RT @justin_hart: You know what's even MORE sus...</td>\n",
       "      <td>&lt;a href=\"https://mobile.twitter.com\" rel=\"nofo...</td>\n",
       "      <td>False</td>\n",
       "      <td>None</td>\n",
       "      <td>None</td>\n",
       "      <td>None</td>\n",
       "      <td>None</td>\n",
       "      <td>...</td>\n",
       "      <td>Fri Jul 10 08:25:53 +0000 2020</td>\n",
       "      <td>justin_hart</td>\n",
       "      <td>Justin Hart</td>\n",
       "      <td>8349572</td>\n",
       "      <td>8349572</td>\n",
       "      <td>NaN</td>\n",
       "      <td>NaN</td>\n",
       "      <td>NaN</td>\n",
       "      <td>NaN</td>\n",
       "      <td>NaN</td>\n",
       "    </tr>\n",
       "    <tr>\n",
       "      <th>3</th>\n",
       "      <td>Wed Nov 25 05:15:30 +0000 2020</td>\n",
       "      <td>1331466521701462016</td>\n",
       "      <td>1331466521701462016</td>\n",
       "      <td>RT @marceelias: Trump/GOP started the day 1-35...</td>\n",
       "      <td>&lt;a href=\"http://twitter.com/#!/download/ipad\" ...</td>\n",
       "      <td>False</td>\n",
       "      <td>None</td>\n",
       "      <td>None</td>\n",
       "      <td>None</td>\n",
       "      <td>None</td>\n",
       "      <td>...</td>\n",
       "      <td>Tue Dec 08 05:41:08 +0000 2009</td>\n",
       "      <td>marceelias</td>\n",
       "      <td>Marc E. Elias</td>\n",
       "      <td>23281108</td>\n",
       "      <td>23281108</td>\n",
       "      <td>NaN</td>\n",
       "      <td>NaN</td>\n",
       "      <td>NaN</td>\n",
       "      <td>NaN</td>\n",
       "      <td>NaN</td>\n",
       "    </tr>\n",
       "    <tr>\n",
       "      <th>4</th>\n",
       "      <td>Wed Nov 25 05:15:31 +0000 2020</td>\n",
       "      <td>1331466522556993536</td>\n",
       "      <td>1331466522556993536</td>\n",
       "      <td>RT @scottjshapiro: You know what would really ...</td>\n",
       "      <td>&lt;a href=\"http://twitter.com/#!/download/ipad\" ...</td>\n",
       "      <td>False</td>\n",
       "      <td>None</td>\n",
       "      <td>None</td>\n",
       "      <td>None</td>\n",
       "      <td>None</td>\n",
       "      <td>...</td>\n",
       "      <td>Fri Nov 30 02:49:03 +0000 2012</td>\n",
       "      <td>scottjshapiro</td>\n",
       "      <td>Scott Shapiro</td>\n",
       "      <td>743836563302420480</td>\n",
       "      <td>743836563302420480</td>\n",
       "      <td>NaN</td>\n",
       "      <td>NaN</td>\n",
       "      <td>NaN</td>\n",
       "      <td>NaN</td>\n",
       "      <td>NaN</td>\n",
       "    </tr>\n",
       "    <tr>\n",
       "      <th>...</th>\n",
       "      <td>...</td>\n",
       "      <td>...</td>\n",
       "      <td>...</td>\n",
       "      <td>...</td>\n",
       "      <td>...</td>\n",
       "      <td>...</td>\n",
       "      <td>...</td>\n",
       "      <td>...</td>\n",
       "      <td>...</td>\n",
       "      <td>...</td>\n",
       "      <td>...</td>\n",
       "      <td>...</td>\n",
       "      <td>...</td>\n",
       "      <td>...</td>\n",
       "      <td>...</td>\n",
       "      <td>...</td>\n",
       "      <td>...</td>\n",
       "      <td>...</td>\n",
       "      <td>...</td>\n",
       "      <td>...</td>\n",
       "      <td>...</td>\n",
       "    </tr>\n",
       "    <tr>\n",
       "      <th>2804</th>\n",
       "      <td>Wed Nov 25 05:17:13 +0000 2020</td>\n",
       "      <td>1331466950174773248</td>\n",
       "      <td>1331466950174773248</td>\n",
       "      <td>RT @KayaJones: Trump will go down as the first...</td>\n",
       "      <td>&lt;a href=\"http://twitter.com/download/iphone\" r...</td>\n",
       "      <td>False</td>\n",
       "      <td>None</td>\n",
       "      <td>None</td>\n",
       "      <td>None</td>\n",
       "      <td>None</td>\n",
       "      <td>...</td>\n",
       "      <td>Thu Jan 12 18:26:31 +0000 2017</td>\n",
       "      <td>KayaJones</td>\n",
       "      <td>Kaya Jones</td>\n",
       "      <td>32626129</td>\n",
       "      <td>32626129</td>\n",
       "      <td>NaN</td>\n",
       "      <td>NaN</td>\n",
       "      <td>NaN</td>\n",
       "      <td>NaN</td>\n",
       "      <td>NaN</td>\n",
       "    </tr>\n",
       "    <tr>\n",
       "      <th>2805</th>\n",
       "      <td>Wed Nov 25 05:17:13 +0000 2020</td>\n",
       "      <td>1331466950229323776</td>\n",
       "      <td>1331466950229323776</td>\n",
       "      <td>RT @SidneyPowell1: #TheAmericanParty\\n@realDon...</td>\n",
       "      <td>&lt;a href=\"http://twitter.com/download/iphone\" r...</td>\n",
       "      <td>False</td>\n",
       "      <td>None</td>\n",
       "      <td>None</td>\n",
       "      <td>None</td>\n",
       "      <td>None</td>\n",
       "      <td>...</td>\n",
       "      <td>Mon Apr 06 22:39:07 +0000 2009</td>\n",
       "      <td>realDonaldTrump</td>\n",
       "      <td>Donald J. Trump</td>\n",
       "      <td>25073877</td>\n",
       "      <td>25073877</td>\n",
       "      <td>1.331235e+18</td>\n",
       "      <td>1331234782261497868</td>\n",
       "      <td>1331234782261497868</td>\n",
       "      <td>NaN</td>\n",
       "      <td>NaN</td>\n",
       "    </tr>\n",
       "    <tr>\n",
       "      <th>2806</th>\n",
       "      <td>Wed Nov 25 05:17:13 +0000 2020</td>\n",
       "      <td>1331466950308990981</td>\n",
       "      <td>1331466950308990981</td>\n",
       "      <td>RT @TomFitton: .@realDonaldTrump tells confida...</td>\n",
       "      <td>&lt;a href=\"http://twitter.com/download/iphone\" r...</td>\n",
       "      <td>False</td>\n",
       "      <td>None</td>\n",
       "      <td>None</td>\n",
       "      <td>None</td>\n",
       "      <td>None</td>\n",
       "      <td>...</td>\n",
       "      <td>Wed Jan 18 06:00:47 +0000 2017</td>\n",
       "      <td>GenFlynn</td>\n",
       "      <td>General Flynn</td>\n",
       "      <td>240454812</td>\n",
       "      <td>240454812</td>\n",
       "      <td>NaN</td>\n",
       "      <td>NaN</td>\n",
       "      <td>NaN</td>\n",
       "      <td>NaN</td>\n",
       "      <td>NaN</td>\n",
       "    </tr>\n",
       "    <tr>\n",
       "      <th>2807</th>\n",
       "      <td>Wed Nov 25 05:17:13 +0000 2020</td>\n",
       "      <td>1331466950472466432</td>\n",
       "      <td>1331466950472466432</td>\n",
       "      <td>RT @PTNewsnetwork: One of the fake Twitter acc...</td>\n",
       "      <td>&lt;a href=\"https://mobile.twitter.com\" rel=\"nofo...</td>\n",
       "      <td>False</td>\n",
       "      <td>None</td>\n",
       "      <td>None</td>\n",
       "      <td>None</td>\n",
       "      <td>None</td>\n",
       "      <td>...</td>\n",
       "      <td>Tue Aug 16 07:47:02 +0000 2011</td>\n",
       "      <td>PTNewsnetwork</td>\n",
       "      <td>PT News Network</td>\n",
       "      <td>1159824374104354816</td>\n",
       "      <td>1159824374104354816</td>\n",
       "      <td>NaN</td>\n",
       "      <td>NaN</td>\n",
       "      <td>NaN</td>\n",
       "      <td>NaN</td>\n",
       "      <td>NaN</td>\n",
       "    </tr>\n",
       "    <tr>\n",
       "      <th>2808</th>\n",
       "      <td>Wed Nov 25 05:17:13 +0000 2020</td>\n",
       "      <td>1331466950594228225</td>\n",
       "      <td>1331466950594228225</td>\n",
       "      <td>RT @MynorLandaverry: Trump es la trompeta.\\n¡D...</td>\n",
       "      <td>&lt;a href=\"http://twitter.com/download/android\" ...</td>\n",
       "      <td>False</td>\n",
       "      <td>None</td>\n",
       "      <td>None</td>\n",
       "      <td>None</td>\n",
       "      <td>None</td>\n",
       "      <td>...</td>\n",
       "      <td>Thu May 10 20:06:49 +0000 2012</td>\n",
       "      <td>MynorLandaverry</td>\n",
       "      <td>Mynor Landaverry</td>\n",
       "      <td>102260355</td>\n",
       "      <td>102260355</td>\n",
       "      <td>NaN</td>\n",
       "      <td>NaN</td>\n",
       "      <td>NaN</td>\n",
       "      <td>NaN</td>\n",
       "      <td>NaN</td>\n",
       "    </tr>\n",
       "  </tbody>\n",
       "</table>\n",
       "<p>2809 rows × 38 columns</p>\n",
       "</div>"
      ],
      "text/plain": [
       "                          created_at                   id  \\\n",
       "0     Wed Nov 25 05:15:30 +0000 2020  1331466521596489729   \n",
       "1     Wed Nov 25 05:15:30 +0000 2020  1331466521583906818   \n",
       "2     Wed Nov 25 05:15:30 +0000 2020  1331466521600815105   \n",
       "3     Wed Nov 25 05:15:30 +0000 2020  1331466521701462016   \n",
       "4     Wed Nov 25 05:15:31 +0000 2020  1331466522556993536   \n",
       "...                              ...                  ...   \n",
       "2804  Wed Nov 25 05:17:13 +0000 2020  1331466950174773248   \n",
       "2805  Wed Nov 25 05:17:13 +0000 2020  1331466950229323776   \n",
       "2806  Wed Nov 25 05:17:13 +0000 2020  1331466950308990981   \n",
       "2807  Wed Nov 25 05:17:13 +0000 2020  1331466950472466432   \n",
       "2808  Wed Nov 25 05:17:13 +0000 2020  1331466950594228225   \n",
       "\n",
       "                   id_str                                               text  \\\n",
       "0     1331466521596489729  RT @realDonaldTrump: Poll: 79 Percent of Trump...   \n",
       "1     1331466521583906818  RT @mmpadellan: Joe Biden is hard at work tryi...   \n",
       "2     1331466521600815105  RT @justin_hart: You know what's even MORE sus...   \n",
       "3     1331466521701462016  RT @marceelias: Trump/GOP started the day 1-35...   \n",
       "4     1331466522556993536  RT @scottjshapiro: You know what would really ...   \n",
       "...                   ...                                                ...   \n",
       "2804  1331466950174773248  RT @KayaJones: Trump will go down as the first...   \n",
       "2805  1331466950229323776  RT @SidneyPowell1: #TheAmericanParty\\n@realDon...   \n",
       "2806  1331466950308990981  RT @TomFitton: .@realDonaldTrump tells confida...   \n",
       "2807  1331466950472466432  RT @PTNewsnetwork: One of the fake Twitter acc...   \n",
       "2808  1331466950594228225  RT @MynorLandaverry: Trump es la trompeta.\\n¡D...   \n",
       "\n",
       "                                                 source  truncated  \\\n",
       "0     <a href=\"https://mobile.twitter.com\" rel=\"nofo...      False   \n",
       "1     <a href=\"http://twitter.com/download/android\" ...      False   \n",
       "2     <a href=\"https://mobile.twitter.com\" rel=\"nofo...      False   \n",
       "3     <a href=\"http://twitter.com/#!/download/ipad\" ...      False   \n",
       "4     <a href=\"http://twitter.com/#!/download/ipad\" ...      False   \n",
       "...                                                 ...        ...   \n",
       "2804  <a href=\"http://twitter.com/download/iphone\" r...      False   \n",
       "2805  <a href=\"http://twitter.com/download/iphone\" r...      False   \n",
       "2806  <a href=\"http://twitter.com/download/iphone\" r...      False   \n",
       "2807  <a href=\"https://mobile.twitter.com\" rel=\"nofo...      False   \n",
       "2808  <a href=\"http://twitter.com/download/android\" ...      False   \n",
       "\n",
       "     in_reply_to_status_id in_reply_to_status_id_str in_reply_to_user_id  \\\n",
       "0                     None                      None                None   \n",
       "1                     None                      None                None   \n",
       "2                     None                      None                None   \n",
       "3                     None                      None                None   \n",
       "4                     None                      None                None   \n",
       "...                    ...                       ...                 ...   \n",
       "2804                  None                      None                None   \n",
       "2805                  None                      None                None   \n",
       "2806                  None                      None                None   \n",
       "2807                  None                      None                None   \n",
       "2808                  None                      None                None   \n",
       "\n",
       "     in_reply_to_user_id_str  ...                 user_created_at  \\\n",
       "0                       None  ...  Sun Sep 29 17:45:37 +0000 2019   \n",
       "1                       None  ...  Tue Sep 01 01:03:01 +0000 2009   \n",
       "2                       None  ...  Fri Jul 10 08:25:53 +0000 2020   \n",
       "3                       None  ...  Tue Dec 08 05:41:08 +0000 2009   \n",
       "4                       None  ...  Fri Nov 30 02:49:03 +0000 2012   \n",
       "...                      ...  ...                             ...   \n",
       "2804                    None  ...  Thu Jan 12 18:26:31 +0000 2017   \n",
       "2805                    None  ...  Mon Apr 06 22:39:07 +0000 2009   \n",
       "2806                    None  ...  Wed Jan 18 06:00:47 +0000 2017   \n",
       "2807                    None  ...  Tue Aug 16 07:47:02 +0000 2011   \n",
       "2808                    None  ...  Thu May 10 20:06:49 +0000 2012   \n",
       "\n",
       "     entities_screen_name         entities_name          entities_id  \\\n",
       "0           BreitbartNews        Breitbart News            457984599   \n",
       "1              mmpadellan  BrooklynDad_Defiant!           1640929196   \n",
       "2             justin_hart           Justin Hart              8349572   \n",
       "3              marceelias         Marc E. Elias             23281108   \n",
       "4           scottjshapiro         Scott Shapiro   743836563302420480   \n",
       "...                   ...                   ...                  ...   \n",
       "2804            KayaJones            Kaya Jones             32626129   \n",
       "2805      realDonaldTrump       Donald J. Trump             25073877   \n",
       "2806             GenFlynn         General Flynn            240454812   \n",
       "2807        PTNewsnetwork       PT News Network  1159824374104354816   \n",
       "2808      MynorLandaverry      Mynor Landaverry            102260355   \n",
       "\n",
       "          entities_id_str  quoted_status_id quoted_status_id_str  \\\n",
       "0               457984599               NaN                  NaN   \n",
       "1              1640929196               NaN                  NaN   \n",
       "2                 8349572               NaN                  NaN   \n",
       "3                23281108               NaN                  NaN   \n",
       "4      743836563302420480               NaN                  NaN   \n",
       "...                   ...               ...                  ...   \n",
       "2804             32626129               NaN                  NaN   \n",
       "2805             25073877      1.331235e+18  1331234782261497868   \n",
       "2806            240454812               NaN                  NaN   \n",
       "2807  1159824374104354816               NaN                  NaN   \n",
       "2808            102260355               NaN                  NaN   \n",
       "\n",
       "            quoted_status quoted_status_permalink extended_entities  \n",
       "0                     NaN                     NaN               NaN  \n",
       "1                     NaN                     NaN               NaN  \n",
       "2                     NaN                     NaN               NaN  \n",
       "3                     NaN                     NaN               NaN  \n",
       "4                     NaN                     NaN               NaN  \n",
       "...                   ...                     ...               ...  \n",
       "2804                  NaN                     NaN               NaN  \n",
       "2805  1331234782261497868                     NaN               NaN  \n",
       "2806                  NaN                     NaN               NaN  \n",
       "2807                  NaN                     NaN               NaN  \n",
       "2808                  NaN                     NaN               NaN  \n",
       "\n",
       "[2809 rows x 38 columns]"
      ]
     },
     "execution_count": 69,
     "metadata": {},
     "output_type": "execute_result"
    }
   ],
   "source": [
    "tratado"
   ]
  },
  {
   "cell_type": "markdown",
   "metadata": {},
   "source": [
    "# Ingestão de dados no SQL Server"
   ]
  },
  {
   "cell_type": "code",
   "execution_count": 71,
   "metadata": {},
   "outputs": [],
   "source": [
    "import pyodbc\n",
    "import sys\n",
    "# Utilizando sqlalchemy para importação do DataFrame para uma tabela nova\n",
    "from sqlalchemy import create_engine"
   ]
  },
  {
   "cell_type": "code",
   "execution_count": 73,
   "metadata": {},
   "outputs": [],
   "source": [
    "# parameters\n",
    "DB = {'servername': 'TIAGO-PC\\OLTP',\n",
    "      'database': 'IGTI',\n",
    "      'driver': 'driver=SQL Server Native Client 11.0'}\n",
    "\n",
    "# create the connection\n",
    "engine = create_engine('mssql+pyodbc://' + DB['servername'] + '/' + DB['database'] + \"?\" + DB['driver'])\n",
    "\n",
    "# add table to sql server\n",
    "tratado.to_sql('TWEETS', index=False, con=engine, if_exists='append')"
   ]
  }
 ],
 "metadata": {
  "kernelspec": {
   "display_name": "Python 3",
   "language": "python",
   "name": "python3"
  },
  "language_info": {
   "codemirror_mode": {
    "name": "ipython",
    "version": 3
   },
   "file_extension": ".py",
   "mimetype": "text/x-python",
   "name": "python",
   "nbconvert_exporter": "python",
   "pygments_lexer": "ipython3",
   "version": "3.8.3"
  }
 },
 "nbformat": 4,
 "nbformat_minor": 4
}
